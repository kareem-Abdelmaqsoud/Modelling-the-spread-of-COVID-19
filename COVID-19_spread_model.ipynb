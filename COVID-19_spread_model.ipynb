{
 "cells": [
  {
   "cell_type": "markdown",
   "metadata": {},
   "source": [
    "# Modelling the number of COVID-19 infectants using a modified SIR model"
   ]
  },
  {
   "cell_type": "markdown",
   "metadata": {},
   "source": [
    "**CHE 116: Numerical Methods and Statistics**"
   ]
  },
  {
   "cell_type": "markdown",
   "metadata": {},
   "source": [
    "**Professor: Andrew White** "
   ]
  },
  {
   "cell_type": "markdown",
   "metadata": {},
   "source": [
    "# Abstract"
   ]
  },
  {
   "cell_type": "markdown",
   "metadata": {},
   "source": [
    "The purpose of this project predicting the number of COVID-19 infectants globally using a modified version of the SIR model. The hypothesis of this project is that this model provides an accurate prediction of the number of infectants. This can be proved that by correlating the predictions to the real-life data about virus.   \n",
    "\n",
    "Statistical analysis was done one the predictions to prove  the hypothesis. First, since linear regression is used to improve the output of the model, one of the assumptions is that the noise is normally distributed. So, by histogramming and doing a Shapiro-Wilk test the normality of the residuals can be tested. Second, the regression model is also justified using a spearman correlation test. Third, to test how far off the fitted value from the actual value, the standard error of residuals is calcualted. "
   ]
  },
  {
   "cell_type": "markdown",
   "metadata": {},
   "source": [
    "# SIR model"
   ]
  },
  {
   "cell_type": "markdown",
   "metadata": {},
   "source": [
    "The SIR model is a simple compartmental model that is used in epidemiology for modelling the spread of an infectious disease. This model divides a fixed population into three compartments, each change as a function of time. Figure(1) shows the three compartments of the model where the susceptibles are those who have not been infected yet, and the Removed are both those who recovered and died after being infected.   \n",
    "The two parameters of the model are β and γ. β is the average contact rate of the disease. γ is the rate of recovery or mortality. \n",
    "![](https://i.ibb.co/ZNm3VTk/SIR.png)  \n",
    "$$ Fig (1)$$\n",
    "\n",
    "**The differential equations used for modelling are:** [1]\n",
    "\n",
    "$$ \\frac {dS}{dt} = \\frac{-β \\times S \\times I}{N}$$   \n",
    "$$ \\frac {dI}{dt} = \\frac{β \\times  S \\times I}{N} - γ \\times I $$   \n",
    "$$ \\frac {dR}{dt} = γ \\times I $$  "
   ]
  },
  {
   "cell_type": "markdown",
   "metadata": {},
   "source": [
    "**Parameter Estimation:**    \n",
    "\n",
    "This project models the number of COVID-19 infectants starting from March 30, 2020 to May 13, 2020. The model parameters,β and γ, can be estimated from the epidemic data, obtained from John's Hopkins data repository[2], before the start date of modelling. By manipulating the differential equations above.   \n",
    "\n",
    "Parameter estimation is a key to the accuracy of the model predictions. β and γ values change over time, but in the model they are kept as constants which creates devitions between the model outcomes and real-life data. A small  prediction interval of 14-days was chosen to minimize this error. \n"
   ]
  },
  {
   "cell_type": "code",
   "execution_count": null,
   "metadata": {},
   "outputs": [],
   "source": [
    "The following code obtaines the data"
   ]
  },
  {
   "cell_type": "code",
   "execution_count": 43,
   "metadata": {},
   "outputs": [],
   "source": [
    "import pandas as pd\n",
    "import math \n",
    "import numpy as np\n",
    "import matplotlib.pyplot as plt\n",
    "import matplotlib.style as style\n",
    "import scipy.stats as ss\n",
    "import scipy.linalg as linalg\n",
    "import datetime as dt\n",
    "%matplotlib inline "
   ]
  },
  {
   "cell_type": "code",
   "execution_count": 44,
   "metadata": {},
   "outputs": [],
   "source": [
    "# Obtaining Infectants Data\n",
    "infected=pd.read_csv(\"time_series_covid19_confirmed_global.csv\")\n",
    "\n",
    "df_1=infected.groupby(\"Country/Region\").sum()\n",
    "\n",
    "temp=df_1.iloc[170,].index.tolist()\n",
    "\n",
    "# print(temp.index(\"4/13/20\"))\n",
    "I = df_1.iloc[:,70:71].sum().values[0]\n",
    "#print(I)\n",
    "I_sum= (df_1.iloc[:,2:71].sum()).sum()\n",
    "#print(I_sum)"
   ]
  },
  {
   "cell_type": "code",
   "execution_count": 45,
   "metadata": {},
   "outputs": [],
   "source": [
    "# Obtaining Recovered Data\n",
    "recovered= pd.read_csv(\"time_series_covid19_recovered_global.csv\")\n",
    "\n",
    "df=recovered.groupby(\"Country/Region\").sum()\n",
    "\n",
    "R= df.iloc[:,70:71].sum().values[0]\n",
    "#print (R)\n",
    "R_sum= (df.iloc[:,2:71].sum()).sum()\n",
    "#print(R_sum)"
   ]
  },
  {
   "cell_type": "code",
   "execution_count": 46,
   "metadata": {},
   "outputs": [],
   "source": [
    "# Obtaining Death Data\n",
    "death= pd.read_csv(\"time_series_covid19_deaths_global.csv\")\n",
    "df_2=death.groupby(\"Country/Region\").sum()\n",
    "\n",
    "D= df_2.iloc[:,70:71].sum().values[0]\n",
    "# print (D)\n",
    "D_sum = (df_2.iloc[:,2:71].sum()).sum()\n",
    "# print(D_sum)"
   ]
  },
  {
   "cell_type": "code",
   "execution_count": 47,
   "metadata": {},
   "outputs": [],
   "source": [
    "# Romoved Population  \n",
    "# DR refers to death and recovery number combined\n",
    "DR= D + R \n",
    "# print(DR)\n",
    "DR_sum= D_sum +R_sum\n",
    "# print(DR_sum)"
   ]
  },
  {
   "cell_type": "markdown",
   "metadata": {},
   "source": [
    "The following code estimates the parameters using the real data, and runs the SIR model for the **First 14-days** between 3/30/2020 and 4/12/2020"
   ]
  },
  {
   "cell_type": "code",
   "execution_count": 48,
   "metadata": {},
   "outputs": [],
   "source": [
    "# The SIR model differential equations. Adabted from [1]\n",
    "def deriv(y, t, N, beta, gamma):\n",
    "    S, I, R = y\n",
    "    dSdt = -beta * S * I / N\n",
    "    dIdt = beta * S * I / N - gamma * I\n",
    "    dRdt = gamma * I\n",
    "    return dSdt, dIdt, dRdt\n",
    "# print(y0)"
   ]
  },
  {
   "cell_type": "code",
   "execution_count": 49,
   "metadata": {},
   "outputs": [],
   "source": [
    "def SIR(I,DR,I_sum,DR_sum):\n",
    "    \"\"\" Takes in data about the Infected and Removed populations, and returns the SIR Model prediction for number of \n",
    "    infectants(I_predicted)\"\"\"\n",
    "    beta= I/(I_sum+DR_sum)\n",
    "    beta=beta\n",
    "    #print(\"beta equals: \" ,beta)\n",
    "    gamma = DR /(I_sum)\n",
    "    #print(\"gamma equals: \" ,gamma)\n",
    "    R0= beta/gamma\n",
    "    #print(\"R0 is: \", R0)\n",
    "    \n",
    "    # Adabted from [1] \n",
    "    N= 7594000000 \n",
    "    I0, R0 = I, DR\n",
    "    S0 = N - I0 - R0\n",
    "    y0 = S0, I0, R0\n",
    "    t = np.arange(1,15)\n",
    "    from scipy.integrate import odeint\n",
    "    # Integrate the SIR equations over the time grid, t.\n",
    "    ret = odeint(deriv, y0, t, args=(N, beta, gamma))\n",
    "    S, I, R = ret.T\n",
    "    I_new = I\n",
    "    #print(I)\n",
    "    #print(R) \n",
    "    return I_new\n",
    "I_predicted= SIR(I,DR,I_sum,DR_sum)"
   ]
  },
  {
   "cell_type": "code",
   "execution_count": 50,
   "metadata": {},
   "outputs": [],
   "source": [
    "def Regression(start):\n",
    "    \"\"\" This function does linear regression between the I_predicted and real-life number of infectants(model calibration), \n",
    "    and returns the fitted predictions of the model(I_fitted)\"\"\"\n",
    "    y2 = []\n",
    "    for i in range(start+1,start+15):\n",
    "        y2.append(df_1.iloc[:,i:i+1].sum().values[0])\n",
    "    # doing linear regression for Infected\n",
    "    cov = np.cov(I_predicted,y2, ddof=2)\n",
    "\n",
    "    #recall that the diagonal is variances, so we use that directly\n",
    "    beta_hat = cov[0,1] / cov[0,0]\n",
    "    alpha_hat = np.mean( y2 - beta_hat * I_predicted)\n",
    "    \n",
    "    \n",
    "    #print(f'Infections alpha_hat = {alpha_hat:.2}')\n",
    "    #print(f'Infections beta_hat = {beta_hat:.2}')\n",
    "    \n",
    "    I_fitted= alpha_hat +beta_hat * I_predicted\n",
    "    \n",
    "    return I_fitted "
   ]
  },
  {
   "cell_type": "code",
   "execution_count": 51,
   "metadata": {},
   "outputs": [
    {
     "data": {
      "text/plain": [
       "array([ 889750.27781339,  952820.61612514, 1018412.78866765,\n",
       "       1086627.56614898, 1157569.75503746, 1231348.34647265,\n",
       "       1308076.66339669, 1387872.56930208, 1470858.63370233,\n",
       "       1557162.3069271 , 1646916.12644521, 1740257.91800128,\n",
       "       1837331.00404399, 1938284.42791606])"
      ]
     },
     "execution_count": 51,
     "metadata": {},
     "output_type": "execute_result"
    }
   ],
   "source": [
    "# the starting date \"3/30/2020\" has an index of 70\n",
    "Regression(70)"
   ]
  },
  {
   "cell_type": "markdown",
   "metadata": {},
   "source": [
    "Building on the fitted data obtained from the model, this code estimates the parameters and runs the SIR Model again for the **Second 14-days** between 4/13/2020 and 4/27/2020"
   ]
  },
  {
   "cell_type": "code",
   "execution_count": 52,
   "metadata": {},
   "outputs": [],
   "source": [
    "# new infected population data:\n",
    "I_fitted= Regression(70)\n",
    "I = I_fitted.tolist()[-1]\n",
    "I_sum= np.sum(I_fitted)\n",
    "#print(I)\n",
    "#print(I_sum)"
   ]
  },
  {
   "cell_type": "code",
   "execution_count": 53,
   "metadata": {},
   "outputs": [],
   "source": [
    "# start = the new start date= 4/13/2020 has index of 84\n",
    "# Removed population data:\n",
    "start = 84\n",
    "# recovered again \n",
    "R= df.iloc[:,start:start+1].sum().values[0]\n",
    "#print (R)\n",
    "R_sum= (df.iloc[:,2:start+1].sum()).sum()\n",
    "#print(R_sum)\n",
    "D= df_2.iloc[:,start:start+1].sum().values[0]\n",
    "D_sum = (df_2.iloc[:,2:start+1].sum()).sum()\n",
    "#print(y)\n",
    "DR= R+D\n",
    "#print(DR)\n",
    "DR_sum= R_sum+D_sum\n",
    "#print(DR_sum)"
   ]
  },
  {
   "cell_type": "code",
   "execution_count": 54,
   "metadata": {
    "scrolled": true
   },
   "outputs": [
    {
     "name": "stdout",
     "output_type": "stream",
     "text": [
      "[2025010.75071223 2088804.46716505 2155197.85456447 2224296.66618497\n",
      " 2296210.94842488 2371055.2096574  2448948.58058403 2530015.04334157\n",
      " 2614383.58599163 2702188.41916068 2793569.18326387 2888671.168032\n",
      " 2987645.53873723 3090649.58417998]\n"
     ]
    }
   ],
   "source": [
    "I_predicted= SIR(I,DR,I_sum,DR_sum)\n",
    "print(Regression(start))"
   ]
  },
  {
   "cell_type": "markdown",
   "metadata": {},
   "source": [
    "Building on the fitted data obtained from the model, this code estimates the parameters and runs the SIR Model again for the **Third and last 14-days** between 4/27/2020 and 5/11/2020"
   ]
  },
  {
   "cell_type": "code",
   "execution_count": 55,
   "metadata": {},
   "outputs": [],
   "source": [
    "# new infected population data:\n",
    "I_fitted= Regression(84)\n",
    "I = I_fitted.tolist()[-1]\n",
    "I_sum= np.sum(I_fitted)\n",
    "#print(I)\n",
    "#print(I_sum)"
   ]
  },
  {
   "cell_type": "code",
   "execution_count": 56,
   "metadata": {
    "scrolled": true
   },
   "outputs": [],
   "source": [
    "# start = the new start date= 4/27/2020 has index of 98\n",
    "start = 98\n",
    "# recovered again \n",
    "R= df.iloc[:,start:start+1].sum().values[0]\n",
    "#print (R)\n",
    "R_sum= (df.iloc[:,2:start+1].sum()).sum()\n",
    "#print(R_sum)\n",
    "D = df_2.iloc[:,start:start+1].sum().values[0]\n",
    "D_sum = (df_2.iloc[:,2:start+1].sum()).sum()\n",
    "#print(y)\n",
    "DR= R+D\n",
    "#print(DR)\n",
    "DR_sum= R_sum+D_sum\n",
    "#print(DR_sum)"
   ]
  },
  {
   "cell_type": "code",
   "execution_count": 57,
   "metadata": {},
   "outputs": [
    {
     "name": "stdout",
     "output_type": "stream",
     "text": [
      "[3090649.58417998 3165843.98472439 3242863.67028491 3321752.75688186\n",
      " 3402556.402752   3485320.84758075 3570093.43598869 3656922.64426561\n",
      " 3745858.10653331 3836950.64210766 3930252.28298845 4025816.30330764\n",
      " 4123697.24799277 4223950.95832599]\n"
     ]
    }
   ],
   "source": [
    "# using the the regression from the last period, we can fit for the future:\n",
    "I_predicted= SIR(I,DR,I_sum,DR_sum)\n",
    "print(I_predicted)\n",
    "I_final= (Regression(70)/1000000).tolist()+(Regression(84)/1000000).tolist()+(I_predicted/1000000).tolist()"
   ]
  },
  {
   "cell_type": "markdown",
   "metadata": {},
   "source": [
    "## Plotting the model preditions versus the real data:"
   ]
  },
  {
   "cell_type": "code",
   "execution_count": 71,
   "metadata": {},
   "outputs": [],
   "source": [
    "# obtaining the dates for the x-axis:\n",
    "df = pd.read_csv('Dates.csv')\n",
    "\n",
    "Date=df.columns.tolist()[4:]\n",
    "#print(label[112])\n",
    "for i in range(0,len(label)):\n",
    "    if(i!=96 and i!=0 and i!=68 and i!= 82 and i!=110):\n",
    "        Date[i]=''"
   ]
  },
  {
   "cell_type": "code",
   "execution_count": 74,
   "metadata": {},
   "outputs": [
    {
     "data": {
      "image/png": "[encoded data removed]",
      "text/plain": [
       "<Figure size 921.6x633.6 with 1 Axes>"
      ]
     },
     "metadata": {},
     "output_type": "display_data"
    }
   ],
   "source": [
    "# plotting:\n",
    "x=np.arange(1,98)\n",
    "z= np.arange(70,112)\n",
    "m = np.arange(1,112)\n",
    "y1 = []\n",
    "for i in range(2,99):\n",
    "    y1.append(df_1.iloc[:,i:i+1].sum().values[0])\n",
    "plt.plot(x,np.array(y1)/1000000,'o', alpha = 0.7, c = \"c\", label= \"Real\")\n",
    "plt.plot(z,I_final, alpha=0.7, c=\"r\", label= \"SIR fitted predictions\")\n",
    "\n",
    "plt.xlabel(\"time in days\")\n",
    "plt.ylabel(\"Millions Infected\")\n",
    "plt.title(\"SIR Fitted Model predictions for number of infectants\")\n",
    "plt.xticks(m,Date)\n",
    "plt.legend()\n",
    "style.use('seaborn-poster')\n",
    "style.use('ggplot')\n",
    "plt.show()\n"
   ]
  },
  {
   "cell_type": "markdown",
   "metadata": {},
   "source": [
    "# Statistical Analysis:"
   ]
  },
  {
   "cell_type": "markdown",
   "metadata": {},
   "source": [
    "Now the data and the model predictions have been created, they can be analyzed. \n",
    "\n",
    "## Ordinary Least Squares Regression (OLS-1D) :\n",
    "In order to have more accurate predictions number of infectants, the SIR model predictions were linearly regressed against the real data, y,(model calibration). Our model will be:  \n",
    "$$ \\hat{y}= \\hat{α}+\\hat{β}x$$\n",
    "\n",
    "The assumption here is that the process that generates our data looks like:  \n",
    "\n",
    "$$ y= α+βx+ϵ$$\n",
    "where: \n",
    "- $\\hat{y}$ indicates our best estimate for the fitting\n",
    "- $\\hat{α}$ - our estimated best intercept\n",
    "- $\\hat{β}$ - our estimated best slope\n",
    "- x is our SIR model predictions without the fitting. \n",
    "\n",
    "The goal of the regression is to minimize this objective function:\n",
    "$$ f(\\hat{α},\\hat{β})= \\sum{(y_i-\\hat{y_i})^2}= \\sum{(y_i-\\hat{α}-\\hat{β}x)^2}$$\n",
    "\n",
    "Using calculus, the minimum of this funtion was found at: \n",
    "\n",
    "$$ \\hat{β} = \\frac{\\sum{(x_i-\\bar{x})(y_i-\\bar{y})}}{\\sum{(x_i-\\bar{x})^2}}$$\n",
    "\n",
    "The intercept can be found by taking the average of the residuals:\n",
    "\n",
    "$$ \\hat{α}= \\frac{1}{N} \\sum{(y_i- \\hat{β}x_i)}$$\n",
    "\n",
    "\n",
    "The linear regression code can be found in the function regression function above."
   ]
  },
  {
   "cell_type": "markdown",
   "metadata": {},
   "source": [
    "## Linear Regression Assumption Check\n",
    "One of the assumptions of linear regression is that the noise is normally distributed. \n",
    "$$ ϵ=y−α−βx ≈ y-\\hat{α}-\\hat{β}x= y -\\hat{y} $$\n",
    "\n",
    "This assumption can be checked by histogramming the residuals, which should be the same as looking at the ϵ distribution. This checking is done on the first two 14-days periods separately. "
   ]
  },
  {
   "cell_type": "code",
   "execution_count": 79,
   "metadata": {},
   "outputs": [
    {
     "data": {
      "image/png": "[encoded data removed]",
      "text/plain": [
       "<Figure size 921.6x633.6 with 1 Axes>"
      ]
     },
     "metadata": {},
     "output_type": "display_data"
    }
   ],
   "source": [
    "# Histogram of the residuals of the first 14-days period\n",
    "plt.hist(np.array(y1[70:84])/1000000-Regression(70)/1000000, color= \"green\", alpha= 0.7)\n",
    "plt.show()"
   ]
  },
  {
   "cell_type": "markdown",
   "metadata": {},
   "source": [
    "Since it's not very clear if the residuals are normal, Shapiro–Wilk is used. \n",
    "## Shapiro–Wilk Test:\n",
    "This test examines if the samples come from an unknown normal distribution. The null hypothsis of this test is that the samples are from the unknown parent normal distribution."
   ]
  },
  {
   "cell_type": "code",
   "execution_count": 80,
   "metadata": {
    "scrolled": true
   },
   "outputs": [
    {
     "name": "stdout",
     "output_type": "stream",
     "text": [
      "The p-value is  0.13950049877166748\n"
     ]
    }
   ],
   "source": [
    "# Shapiro–Wilk Test for the first 14-days\n",
    "print (\"The p-value is \",  ss.shapiro(np.array(y1[70:84])/1000000-Regression(70)/1000000)[1]) "
   ]
  },
  {
   "cell_type": "markdown",
   "metadata": {},
   "source": [
    "Since the P-value is greater than 0.05, the null hypothesis cannot be rejected. So, this proves that the residuals come from a normal distribution. "
   ]
  },
  {
   "cell_type": "markdown",
   "metadata": {},
   "source": [
    "Normality testing for the second 14-days period:"
   ]
  },
  {
   "cell_type": "code",
   "execution_count": 82,
   "metadata": {},
   "outputs": [
    {
     "data": {
      "image/png": "[encoded data removed]",
      "text/plain": [
       "<Figure size 921.6x633.6 with 1 Axes>"
      ]
     },
     "metadata": {},
     "output_type": "display_data"
    }
   ],
   "source": [
    "plt.hist(np.array(y1[83:98])/1000000-Regression(84)/1000000, color = \"skyblue\")\n",
    "plt.show()"
   ]
  },
  {
   "cell_type": "code",
   "execution_count": 84,
   "metadata": {},
   "outputs": [
    {
     "name": "stdout",
     "output_type": "stream",
     "text": [
      "The p-value is  0.13950049877166748\n"
     ]
    }
   ],
   "source": [
    "# Shapiro–Wilk Test for the second 14-days\n",
    "print (\"The p-value is \",  ss.shapiro(np.array(y1[70:84])/1000000-Regression(70)/1000000)[1]) "
   ]
  },
  {
   "cell_type": "markdown",
   "metadata": {},
   "source": [
    "Again, since the P-value is greater than 0.05, the null hypothesis cannot be rejected. So, this proves that the residuals come from a normal distribution. "
   ]
  },
  {
   "cell_type": "markdown",
   "metadata": {},
   "source": [
    "## Standard error of residuals:\n",
    "One way to asses the strength of a fit is to consider how far off the predicted value from the actual value is to calculate the standard error for the residuals. The equation that can be used is:\n",
    "\n",
    "$$ S_ϵ^2 = \\frac{1}{N-D}{\\sum{(\\hat{y_i}- y_i})^2}$$\n",
    "\n",
    "Where:\n",
    "- N is the number of samples\n",
    "- D is the number of fit coefficients.\n",
    "- The N−D term is called the degrees of freedom\n",
    "\n",
    "\n",
    "Beucase some of the residuals are positive while others are negative, the sum of residuals squared is calcualted. To make the estimate unbaised, the sum of squared residuals is divided by the degrees of freedom in the model. The code for doing this calcualtion: "
   ]
  },
  {
   "cell_type": "code",
   "execution_count": 88,
   "metadata": {},
   "outputs": [
    {
     "name": "stdout",
     "output_type": "stream",
     "text": [
      "The standard error of residuals is 0.31493820252496124  with 95% confidence interval\n"
     ]
    }
   ],
   "source": [
    "## Sum of squared residuals\n",
    "s2_epsilon = np.sum((np.array(y1[70:84])/1000000-Regression(70)/1000000)**2)/12\n",
    "s2_residual = np.sqrt(s2_epsilon/12)\n",
    "T = ss.t.ppf(0.975, len(x) - 2)\n",
    "#print(s2_residual, T)\n",
    "print(\"The standard error of residuals is\", T * np.sqrt(s2_residual), ' with 95% confidence interval')"
   ]
  },
  {
   "cell_type": "markdown",
   "metadata": {},
   "source": [
    "# Conclusion: "
   ]
  },
  {
   "cell_type": "code",
   "execution_count": null,
   "metadata": {},
   "outputs": [],
   "source": []
  },
  {
   "cell_type": "markdown",
   "metadata": {},
   "source": [
    "# References: "
   ]
  },
  {
   "cell_type": "markdown",
   "metadata": {},
   "source": [
    "[1] https://scipython.com/book/chapter-8-scipy/additional-examples/the-sir-epidemic-model/  \n",
    "[2] 2019 Novel Coronavirus COVID-19 (2019-nCoV) Data Repository by Johns Hopkins CSSE\n",
    "https://github.com/CSSEGISandData/COVID-19\n",
    "- All other equations/information came from lecture notes/slides.\n",
    "- figure(1) was created by the author of this project and wasn't obtained from an online resource"
   ]
  },
  {
   "cell_type": "code",
   "execution_count": null,
   "metadata": {},
   "outputs": [],
   "source": []
  }
 ],
 "metadata": {
  "kernelspec": {
   "display_name": "Python 3",
   "language": "python",
   "name": "python3"
  },
  "language_info": {
   "codemirror_mode": {
    "name": "ipython",
    "version": 3
   },
   "file_extension": ".py",
   "mimetype": "text/x-python",
   "name": "python",
   "nbconvert_exporter": "python",
   "pygments_lexer": "ipython3",
   "version": "3.7.1"
  }
 },
 "nbformat": 4,
 "nbformat_minor": 2
}
